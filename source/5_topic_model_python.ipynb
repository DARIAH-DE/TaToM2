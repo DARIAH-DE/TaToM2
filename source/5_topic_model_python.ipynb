{
 "cells": [
  {
   "cell_type": "markdown",
   "metadata": {},
   "source": [
    "\n",
    "<a id='index-0'></a>\n",
    "\n",
    "<a id='topic-model-python'></a>"
   ]
  },
  {
   "cell_type": "markdown",
   "metadata": {},
   "source": [
    "# Topic modeling in Python\n",
    "\n",
    "This section illustrates how to do approximate topic modeling in Python. We will\n",
    "use a technique called [non-negative matrix factorization (NMF)](https://en.wikipedia.org/wiki/Non-negative_matrix_factorization) that\n",
    "strongly resembles Latent Dirichlet Allocation (LDA) which we covered in the\n",
    "previous section, [Topic modeling with MALLET](#topic_model_mallet.ipynb#topic-model-mallet). <sup>[1](#fn-nmf)</sup> Whereas LDA is\n",
    "a probabilistic model capable of expressing uncertainty about the placement of\n",
    "topics across texts and the assignment of words to topics, NMF is\n",
    "a deterministic algorithm which arrives at a single representation of the\n",
    "corpus. For this reason, NMF is often characterized as a machine learning\n",
    "algorithm. Like LDA, NMF arrives at its representation of a corpus in terms of\n",
    "something resembling “latent topics”.\n",
    "\n",
    ">**Note**\n",
    ">\n",
    ">The name “Non-negative matrix factorization” has the virtue of being\n",
    "transparent. A “non-negative matrix” is a matrix containing non-negative\n",
    "values (here zero or positive word frequencies). And\n",
    "factorization refers to the familiar kind of mathematical factorization.\n",
    "Just as a polynomial $ x^2 + 3x + 2 $ may be factored into a simple\n",
    "product $ (x+2)(x+1) $, so too may a matrix\n",
    "$ \\bigl(\\begin{smallmatrix} 6&2&4\\\\ 9&3&6 \\end{smallmatrix} \\bigr) $ be\n",
    "factored into the product of two smaller matrices\n",
    "$ \\bigl(\\begin{smallmatrix} 2\\\\ 3 \\end{smallmatrix} \\bigr)\n",
    "\\bigl(\\begin{smallmatrix} 3&2&1 \\end{smallmatrix} \\bigr) $.\n",
    "\n",
    "This section follows the procedures described in [Topic modeling with MALLET](#topic_model_mallet.ipynb#topic-model-mallet),\n",
    "making the substitution of NMF for LDA where appropriate.\n",
    "\n",
    "This section uses the novels by Brontë and Austen. These novels are divided into\n",
    "parts as follows:"
   ]
  },
  {
   "cell_type": "code",
   "execution_count": 1,
   "metadata": {
    "hide-output": false
   },
   "outputs": [
    {
     "ename": "FileNotFoundError",
     "evalue": "[WinError 3] Das System kann den angegebenen Pfad nicht finden: 'C:\\\\Users\\\\sib27sm\\\\PycharmProjects\\\\data\\\\austen-brontë-split'",
     "output_type": "error",
     "traceback": [
      "\u001B[1;31m---------------------------------------------------------------------------\u001B[0m",
      "\u001B[1;31mFileNotFoundError\u001B[0m                         Traceback (most recent call last)",
      "\u001B[1;32m<ipython-input-1-e3637e36c4df>\u001B[0m in \u001B[0;36m<module>\u001B[1;34m\u001B[0m\n\u001B[0;32m      5\u001B[0m \u001B[0mCORPUS_PATH\u001B[0m \u001B[1;33m=\u001B[0m \u001B[0mPath\u001B[0m\u001B[1;33m.\u001B[0m\u001B[0mjoinpath\u001B[0m\u001B[1;33m(\u001B[0m\u001B[0mjupyter_path\u001B[0m\u001B[1;33m.\u001B[0m\u001B[0mresolve\u001B[0m\u001B[1;33m(\u001B[0m\u001B[1;33m)\u001B[0m\u001B[1;33m.\u001B[0m\u001B[0mparent\u001B[0m\u001B[1;33m.\u001B[0m\u001B[0mparent\u001B[0m\u001B[1;33m,\u001B[0m \u001B[1;34m'data'\u001B[0m\u001B[1;33m,\u001B[0m \u001B[1;34m'austen-brontë-split'\u001B[0m\u001B[1;33m)\u001B[0m\u001B[1;33m\u001B[0m\u001B[1;33m\u001B[0m\u001B[0m\n\u001B[0;32m      6\u001B[0m \u001B[1;33m\u001B[0m\u001B[0m\n\u001B[1;32m----> 7\u001B[1;33m \u001B[0mfilenames\u001B[0m \u001B[1;33m=\u001B[0m \u001B[0msorted\u001B[0m\u001B[1;33m(\u001B[0m\u001B[1;33m[\u001B[0m\u001B[0mos\u001B[0m\u001B[1;33m.\u001B[0m\u001B[0mpath\u001B[0m\u001B[1;33m.\u001B[0m\u001B[0mjoin\u001B[0m\u001B[1;33m(\u001B[0m\u001B[0mCORPUS_PATH\u001B[0m\u001B[1;33m,\u001B[0m \u001B[0mfn\u001B[0m\u001B[1;33m)\u001B[0m \u001B[1;32mfor\u001B[0m \u001B[0mfn\u001B[0m \u001B[1;32min\u001B[0m \u001B[0mos\u001B[0m\u001B[1;33m.\u001B[0m\u001B[0mlistdir\u001B[0m\u001B[1;33m(\u001B[0m\u001B[0mCORPUS_PATH\u001B[0m\u001B[1;33m)\u001B[0m\u001B[1;33m]\u001B[0m\u001B[1;33m)\u001B[0m\u001B[1;33m\u001B[0m\u001B[1;33m\u001B[0m\u001B[0m\n\u001B[0m\u001B[0;32m      8\u001B[0m \u001B[1;33m\u001B[0m\u001B[0m\n",
      "\u001B[1;31mFileNotFoundError\u001B[0m: [WinError 3] Das System kann den angegebenen Pfad nicht finden: 'C:\\\\Users\\\\sib27sm\\\\PycharmProjects\\\\data\\\\austen-brontë-split'"
     ]
    }
   ],
   "source": [
    "import os\n",
    "\n",
    "from pathlib import Path\n",
    "jupyter_path = Path.cwd()\n",
    "CORPUS_PATH = Path.joinpath(jupyter_path.resolve().parent.parent, 'data', 'austen-brontë-split')\n",
    "\n",
    "filenames = sorted([os.path.join(CORPUS_PATH, fn) for fn in os.listdir(CORPUS_PATH)])"
   ]
  },
  {
   "cell_type": "code",
   "execution_count": null,
   "metadata": {
    "hide-output": false
   },
   "outputs": [],
   "source": [
    "# files are located in data/austen-brontë-split\n",
    "len(filenames)\n",
    "filenames[:5]"
   ]
  },
  {
   "cell_type": "markdown",
   "metadata": {},
   "source": [
    "## Using Non-negative matrix factorization\n",
    "\n",
    "As always we need to give Python access to our corpus. In this case we will work\n",
    "with our familiar document-term matrix."
   ]
  },
  {
   "cell_type": "code",
   "execution_count": null,
   "metadata": {
    "scrolled": false
   },
   "outputs": [],
   "source": [
    "import numpy as np  # a conventional alias\n",
    "import sklearn.feature_extraction.text as text\n",
    "\n",
    "vectorizer = text.CountVectorizer(input='filename', stop_words='english', min_df=20)\n",
    "dtm = vectorizer.fit_transform(filenames).toarray()\n",
    "vocab = np.array(vectorizer.get_feature_names())\n",
    "\n",
    "dtm.shape\n",
    "len(vocab)"
   ]
  },
  {
   "cell_type": "markdown",
   "metadata": {},
   "source": [
    "By analogy with LDA, we will use NMF to get a document-topic matrix (topics here\n",
    "will also be referred to as “components”) and a list of top words for each\n",
    "topic. We will make analogy clear by using the same variable names:\n",
    "`doctopic` and `topic_words`"
   ]
  },
  {
   "cell_type": "code",
   "execution_count": null,
   "metadata": {
    "hide-output": false
   },
   "outputs": [],
   "source": [
    "from sklearn import decomposition\n",
    "\n",
    "num_topics = 20\n",
    "num_top_words = 20\n",
    "\n",
    "clf = decomposition.NMF(n_components=num_topics, random_state=1)\n",
    "\n",
    "# this next step may take some time"
   ]
  },
  {
   "cell_type": "code",
   "execution_count": null,
   "metadata": {
    "scrolled": true
   },
   "outputs": [],
   "source": [
    "clf"
   ]
  },
  {
   "cell_type": "markdown",
   "metadata": {},
   "source": [
    "##### if not installed yet: pip3 install pickle-mixin"
   ]
  },
  {
   "cell_type": "code",
   "execution_count": null,
   "metadata": {
    "scrolled": true
   },
   "outputs": [],
   "source": [
    "import os\n",
    "import pickle\n",
    "\n",
    "path_X = Path.cwd()\n",
    "path = Path.joinpath(path_X.resolve().parent.parent, 'source', 'cache')\n",
    "NMF_TOPICS= os.path.basename('nmf-austen-brontë-doc-topic.pkl')\n",
    "NMF_CLF = os.path.basename('nmf-austen-brontë-clf.pkl')\n",
    "#NMF_TOPICS = 'source/cache/nmf-austen-brontë-doc-topic.pkl'\n",
    "#NMF_CLF = 'source/cache/nmf-austen-brontë-clf.pkl'\n",
    "\n",
    "# the ipython directive seems to have trouble with multi-line indented blocks\n",
    "if not os.path.exists(NMF_CLF):\n",
    "    doctopic = clf.fit_transform(dtm)\n",
    "    pickle.dump(doctopic, open(NMF_TOPICS, 'wb'))\n",
    "    pickle.dump(clf, open(NMF_CLF, 'wb'))\n",
    "\n",
    "\n",
    "clf = pickle.load(open(NMF_CLF, 'rb'))\n",
    "doctopic = pickle.load(open(NMF_TOPICS, 'rb'))\n"
   ]
  },
  {
   "cell_type": "code",
   "execution_count": null,
   "metadata": {
    "hide-output": false
   },
   "outputs": [],
   "source": [
    "#doctopic = clf.fit_transform(dtm)"
   ]
  },
  {
   "cell_type": "code",
   "execution_count": null,
   "metadata": {
    "hide-output": false
   },
   "outputs": [],
   "source": [
    "# print words associated with topics\n",
    "topic_words = []\n",
    "for topic in clf.components_:\n",
    "    word_idx = np.argsort(topic)[::-1][0:num_top_words]\n",
    "    topic_words.append([vocab[i] for i in word_idx])"
   ]
  },
  {
   "cell_type": "markdown",
   "metadata": {},
   "source": [
    "To make the analysis and visualization of NMF components similar to that of\n",
    "LDA’s topic proportions, we will scale the document-component matrix such that\n",
    "the component values associated with each document sum to one."
   ]
  },
  {
   "cell_type": "code",
   "execution_count": null,
   "metadata": {
    "hide-output": false
   },
   "outputs": [],
   "source": [
    "doctopic = doctopic / np.sum(doctopic, axis=1, keepdims=True)"
   ]
  },
  {
   "cell_type": "code",
   "execution_count": null,
   "metadata": {},
   "outputs": [],
   "source": [
    "doctopic"
   ]
  },
  {
   "cell_type": "markdown",
   "metadata": {},
   "source": [
    "Now we will average those topic shares associated with the same novel together\n",
    "— just as we did with the topic shares from MALLET."
   ]
  },
  {
   "cell_type": "code",
   "execution_count": null,
   "metadata": {
    "hide-output": false
   },
   "outputs": [],
   "source": [
    "novel_names = []\n",
    "for fn in filenames:\n",
    "    basename = os.path.basename(fn)\n",
    "    # splitext splits the extension off, 'novel.txt' -> ('novel', '.txt')\n",
    "    name, ext = os.path.splitext(basename)\n",
    "    # remove trailing numbers identifying chunk\n",
    "    name = name.rstrip('0123456789')\n",
    "    novel_names.append(name)\n",
    "# turn this into an array so we can use NumPy functions\n",
    "novel_names = np.asarray(novel_names)\n",
    "\n",
    "try:\n",
    "    len(set(novel_names)) == 6\n",
    "except:\n",
    "    print('An exception occured')\n",
    "    \n",
    "try:\n",
    "    doctopic_orig = doctopic.copy()\n",
    "except:\n",
    "    print('An exception occured')\n",
    "\n",
    "# use method described in preprocessing section\n",
    "num_groups = len(set(novel_names))\n",
    "doctopic_grouped = np.zeros((num_groups, num_topics))\n",
    "for i, name in enumerate(sorted(set(novel_names))):\n",
    "    doctopic_grouped[i, :] = np.mean(doctopic[novel_names == name, :], axis=0)\n",
    "\n",
    "doctopic = doctopic_grouped\n",
    "\n",
    "try:\n",
    "    docnames = sorted(set(novel_names))\n",
    "except:\n",
    "    print('An exception occured')"
   ]
  },
  {
   "cell_type": "code",
   "execution_count": null,
   "metadata": {},
   "outputs": [],
   "source": [
    "novel_names"
   ]
  },
  {
   "cell_type": "markdown",
   "metadata": {},
   "source": [
    "In order to fit into the space available, the table above displays the first 15\n",
    "of 20 topics."
   ]
  },
  {
   "cell_type": "markdown",
   "metadata": {},
   "source": [
    "## Inspecting the NMF fit\n",
    "\n",
    "The topics (or components) of the NMF fit preserve the distances between novels (see the figures below).\n",
    "\n",
    "Even though the NMF fit “discards” the fine-grained detail recorded in the\n",
    "matrix of word frequencies, the matrix factorization performed allows us to\n",
    "reconstruct the salient details of the underlying matrix.\n",
    "\n",
    "As we did in the previous section, let us identify the most significant topics\n",
    "for each text in the corpus.  This procedure does not differ in essence from the\n",
    "procedure for identifying the most frequent words in each text."
   ]
  },
  {
   "cell_type": "code",
   "execution_count": null,
   "metadata": {
    "hide-output": false
   },
   "outputs": [],
   "source": [
    "novels = sorted(set(novel_names))\n",
    "print(\"Top NMF topics in...\")\n",
    "for i in range(len(doctopic)):\n",
    "    top_topics = np.argsort(doctopic[i,:])[::-1][0:3]\n",
    "    top_topics_str = ' '.join(str(t) for t in top_topics)\n",
    "    print(\"{}: {}\".format(novels[i], top_topics_str))"
   ]
  },
  {
   "cell_type": "markdown",
   "metadata": {},
   "source": [
    "And we already have lists of words (`topic_words`) most strongly associated\n",
    "with the components. For reference, we will display them again:"
   ]
  },
  {
   "cell_type": "code",
   "execution_count": null,
   "metadata": {
    "hide-output": false
   },
   "outputs": [],
   "source": [
    "# show the top 15 words\n",
    "for t in range(len(topic_words)):\n",
    "    print(\"Topic {}: {}\".format(t, ' '.join(topic_words[t][:15])))"
   ]
  },
  {
   "cell_type": "markdown",
   "metadata": {},
   "source": [
    "There are many ways to inspect and to visualize topic models. Some of the most\n",
    "common methods are covered in [Visualizing topic models](#topic_model_visualization.ipynb#topic-model-visualization)."
   ]
  },
  {
   "cell_type": "markdown",
   "metadata": {},
   "source": [
    "### Distinctive topics\n",
    "\n",
    "Consider the task of finding the topics that are distinctive of Austen using the\n",
    "NMF “topics”. Using the simple difference-in-averages we can find topics that to\n",
    "be associated with Austen’s novels rather than Brontë’s."
   ]
  },
  {
   "cell_type": "code",
   "execution_count": null,
   "metadata": {
    "hide-output": false
   },
   "outputs": [],
   "source": [
    "austen_indices, cbronte_indices = [], []\n",
    "for index, fn in enumerate(sorted(set(novel_names))):\n",
    "    if \"Austen\" in fn:\n",
    "        austen_indices.append(index)\n",
    "    elif \"CBronte\" in fn:\n",
    "        cbronte_indices.append(index)\n",
    "\n",
    "austen_avg = np.mean(doctopic[austen_indices, :], axis=0)\n",
    "cbronte_avg = np.mean(doctopic[cbronte_indices, :], axis=0)\n",
    "keyness = np.abs(austen_avg - cbronte_avg)\n",
    "ranking = np.argsort(keyness)[::-1]  # from highest to lowest; [::-1] reverses order in Python sequences\n",
    "\n",
    "# distinctive topics:\n",
    "ranking[:10]"
   ]
  },
  {
   "cell_type": "markdown",
   "metadata": {},
   "source": [
    "<a id='fn-nmf'></a>\n",
    "**[1]** While there are significant differences between NMF and LDA, there\n",
    "are also similarities. Indeed, if the texts in a corpus have certain\n",
    "properties, NMF and LDA will arrive at the same representation of a corpus\n",
    "[[AGH+13]](#references.ipynb#arora-practical-2013)."
   ]
  }
 ],
 "metadata": {
  "date": 1.577189940934933E9,
  "filename": "topic_model_python.rst",
  "kernelspec": {
   "display_name": "Python 3",
   "language": "python",
   "name": "python3"
  },
  "language_info": {
   "codemirror_mode": {
    "name": "ipython",
    "version": 3
   },
   "file_extension": ".py",
   "mimetype": "text/x-python",
   "name": "python",
   "nbconvert_exporter": "python",
   "pygments_lexer": "ipython3",
   "version": "3.8.2"
  },
  "title": "Topic modeling in Python"
 },
 "nbformat": 4,
 "nbformat_minor": 2
}